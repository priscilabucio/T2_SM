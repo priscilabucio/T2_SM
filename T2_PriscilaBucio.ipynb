{
 "cells": [
  {
   "cell_type": "markdown",
   "metadata": {},
   "source": [
    "## Python is becoming the world’s most popular coding language\n",
    "\n",
    "Guido Van Rossum, el creador de Python, no esperaba crear un lenguaje que fuera utilizado por una cantidad tan grande de usuarios; pero casi 30 años después, su invento a llegado a manos de muchísimos nuevos usuarios y superado a casi todos sus rivales.\n",
    "\n",
    "El lenguaje tiene la ventaja de ser flexible y simple, fácil de aprender, leer y compartir. Sus usuarios o \"Pythonistas\" han subido 145,000 paquetes de software personalizados a un repositorio en línea, el cual incluye desde creación de videojuegos hasta astronomía y puede ser instalado y agregado a Python en segundos. Esto hace al lenguaje tan versatil que puede ser utilizado para casi cualquier propósito.\n",
    "\n",
    "Con un crecimiento tan rápido, Python podría dejar atrás a todos los otros lenguajes de programación, aunque Grady Booch de IBM asegura que hay otros lenguajes que dan al programador un mayor control sobre el sistema que Python no permite. Algunos de estos lenguajes son; C, C++, Java y JavaScript.\n",
    "\n",
    "### Referencia \n",
    "Recuperado de: https://www.economist.com/graphic-detail/2018/07/26/python-is-becoming-the-worlds-most-popular-coding-language"
   ]
  },
  {
   "cell_type": "markdown",
   "metadata": {},
   "source": []
  }
 ],
 "metadata": {
  "kernelspec": {
   "display_name": "Python 3",
   "language": "python",
   "name": "python3"
  },
  "language_info": {
   "codemirror_mode": {
    "name": "ipython",
    "version": 3
   },
   "file_extension": ".py",
   "mimetype": "text/x-python",
   "name": "python",
   "nbconvert_exporter": "python",
   "pygments_lexer": "ipython3",
   "version": "3.8.3"
  }
 },
 "nbformat": 4,
 "nbformat_minor": 4
}
