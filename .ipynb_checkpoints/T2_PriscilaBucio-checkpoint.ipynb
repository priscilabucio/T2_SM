{
 "cells": [
  {
   "cell_type": "markdown",
   "metadata": {},
   "source": [
    "## Python is becoming the world’s most popular coding language\n",
    "\n",
    "Guido Van Rossum, el creador de Python, no esperaba crear un lenguaje que fuera utilizado por una cantidad tan grande de usuarios; pero casi 30 años después, su invento a llegado a manos de muchísimos nuevos usuarios y superado a casi todos sus rivales.\n",
    "\n",
    "El lenguaje tiene la ventaja de ser flexible y simple, fácil de aprender, leer y compartir. Sus usuarios o \"Pythonistas\" han subido 145,000 paquetes de software personalizados a un repositorio en línea, el cual incluye desde creación de videojuegos hasta astronomía y puede ser instalado y agregado a Python en segundos. Esto hace al lenguaje tan versatil que puede ser utilizado para casi cualquier propósito.\n",
    "\n",
    "Con un crecimiento tan rápido, Python podría dejar atrás a todos los otros lenguajes de programación, aunque Grady Booch de IBM asegura que hay otros lenguajes que dan al programador un mayor control sobre el sistema que Python no permite. Algunos de estos lenguajes son; C, C++, Java y JavaScript.\n",
    "\n",
    "### Referencia \n",
    "Recuperado de: https://www.economist.com/graphic-detail/2018/07/26/python-is-becoming-the-worlds-most-popular-coding-language"
   ]
  },
  {
   "cell_type": "markdown",
   "metadata": {},
   "source": [
    "## 5 reasons you should learn Python now\n",
    "\n",
    "Python es actualmente el lenguaje más popular para la introducción a la programación en las universidades de Estados Unidos y es el cuarto lenguaje más popular para programar después de Java, C y C++.\n",
    "\n",
    "Python es fácil de usar, poderoso y versátil, lo que lo hace una excelente opción para programar; su simplicidad hace posible que los usuarios piensen como programadores sin perder el tiempo en aprender la sintaxis. Y una vez que se entiende el funcionamiento de los códigos, será más fácil entender un código en cualquier otro idioma.\n",
    "\n",
    "No porque Python sea un lenguaje fácil, significa que sea inservible y no se puedan hacer grandes cosas con él; grandes compañías como Dropbox, Google, Netflix y Spotify utlizan Python para realizar gran parte de sus códigos. \n",
    "Como es posible notar, este lenguaje puede ser utilizado para una gran vriedad de aplicaciones. Muchos grandes desarrolladores contribuyen diariamente en la creación de librerías para todo tipo de aplicaciones en Python.\n",
    "\n",
    "### Referencia\n",
    "\n",
    "Recuperado de: https://www.pluralsight.com/blog/software-development/why-python"
   ]
  }
 ],
 "metadata": {
  "kernelspec": {
   "display_name": "Python 3",
   "language": "python",
   "name": "python3"
  },
  "language_info": {
   "codemirror_mode": {
    "name": "ipython",
    "version": 3
   },
   "file_extension": ".py",
   "mimetype": "text/x-python",
   "name": "python",
   "nbconvert_exporter": "python",
   "pygments_lexer": "ipython3",
   "version": "3.8.3"
  }
 },
 "nbformat": 4,
 "nbformat_minor": 4
}
